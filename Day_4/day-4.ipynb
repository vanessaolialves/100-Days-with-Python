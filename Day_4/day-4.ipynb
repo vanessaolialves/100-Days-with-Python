{
 "cells": [
  {
   "cell_type": "code",
   "execution_count": 25,
   "metadata": {},
   "outputs": [
    {
     "name": "stdout",
     "output_type": "stream",
     "text": [
      "50\n",
      "3.14159\n",
      "91.01418709224677\n",
      "Your love score is 73\n"
     ]
    }
   ],
   "source": [
    "# Random\n",
    "# https://en.wikipedia.org/wiki/Mersenne_Twister\n",
    "\n",
    "# Explanation about random number\n",
    "# https://www.khanacademy.org/computing/computer-science/cryptography/crypt/v/random-vs-pseudorandom-number-generators\n",
    "\n",
    "# Ask for python with you need a algorithm\n",
    "# https://www.askpython.com/\n",
    "\n",
    "# First import the module or library\n",
    "# Module are algorithms that someone do and you can use\n",
    "import random\n",
    "# Now i can use things that are in another page\n",
    "import my_module\n",
    "\n",
    "random_integer = random.randint(1, 100)\n",
    "# Every time you will receive a different number\n",
    "print(random_integer)\n",
    "\n",
    "print(my_module.pi)\n",
    "\n",
    "#Random float number\n",
    "# random() -> 0.000000000 - 0.999999999...\n",
    "# if you multiply the random() to a number you can have more space between numbers\n",
    "random_float = random.random()*100\n",
    "print(random_float)\n",
    "\n",
    "\n",
    "love_score = random.randint(1, 100)\n",
    "print(f\"Your love score is {love_score}\")\n"
   ]
  }
 ],
 "metadata": {
  "kernelspec": {
   "display_name": "Python 3",
   "language": "python",
   "name": "python3"
  },
  "language_info": {
   "codemirror_mode": {
    "name": "ipython",
    "version": 3
   },
   "file_extension": ".py",
   "mimetype": "text/x-python",
   "name": "python",
   "nbconvert_exporter": "python",
   "pygments_lexer": "ipython3",
   "version": "3.8.10"
  }
 },
 "nbformat": 4,
 "nbformat_minor": 2
}
