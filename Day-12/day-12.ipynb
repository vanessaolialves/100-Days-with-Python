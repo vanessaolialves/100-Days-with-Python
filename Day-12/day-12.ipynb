{
 "cells": [
  {
   "cell_type": "code",
   "execution_count": 20,
   "metadata": {},
   "outputs": [
    {
     "name": "stdout",
     "output_type": "stream",
     "text": [
      "function: enemies inside function: 2\n",
      "print1: enemies outside function: 1\n",
      "print2: enemies outside function: 3\n",
      "function: enemies inside function: 2\n"
     ]
    }
   ],
   "source": [
    "########################## Scope ##########################\n",
    "enemies = 1\n",
    "\n",
    "def increase_enemies():\n",
    "    enemies = 2\n",
    "    print(f\"function: enemies inside function: {enemies}\")\n",
    "\n",
    "increase_enemies()\n",
    "print(f\"print1: enemies outside function: {enemies}\")\n",
    "enemies = 3\n",
    "print(f\"print2: enemies outside function: {enemies}\")\n",
    "increase_enemies()\n"
   ]
  },
  {
   "cell_type": "code",
   "execution_count": 3,
   "metadata": {},
   "outputs": [
    {
     "name": "stdout",
     "output_type": "stream",
     "text": [
      "2\n"
     ]
    }
   ],
   "source": [
    "# Local Scope\n",
    "\n",
    "def drink_potion():\n",
    "    potion_strength = 2\n",
    "    print(potion_strength)\n",
    "\n",
    "drink_potion()\n",
    "# The next line have a error. You can't use a variable declare in the function\n",
    "# The error will be the variable is not defined\n",
    "# print(potion_strength)\n"
   ]
  },
  {
   "cell_type": "code",
   "execution_count": 4,
   "metadata": {},
   "outputs": [
    {
     "name": "stdout",
     "output_type": "stream",
     "text": [
      "Potion_strength: 2\n",
      "Player_health: 10\n",
      "Player_health: 10\n"
     ]
    }
   ],
   "source": [
    "# Global Scope\n",
    "\n",
    "# Global variable\n",
    "player_health = 10\n",
    "\n",
    "def drink_potion():\n",
    "    # Local Variable\n",
    "    potion_strength = 2\n",
    "    print(f\"Potion_strength: {potion_strength}\")\n",
    "    print(f\"Player_health: {player_health}\")\n",
    "\n",
    "\n",
    "drink_potion()\n",
    "# Player_heath is a global variable i can't use this here\n",
    "print(f\"Player_health: {player_health}\")\n"
   ]
  },
  {
   "cell_type": "code",
   "execution_count": 5,
   "metadata": {},
   "outputs": [
    {
     "name": "stdout",
     "output_type": "stream",
     "text": [
      "Potion_strength: 2\n",
      "Player_health: 10\n",
      "Player_health: 10\n"
     ]
    }
   ],
   "source": [
    "# Namespace: Local vs Global Scope\n",
    "\n",
    "# Global variable\n",
    "player_health = 10\n",
    "\n",
    "# Global Function\n",
    "def game():\n",
    "    # Local Function\n",
    "    def potion_health():\n",
    "        # Local variable\n",
    "        potion_strength = 2\n",
    "        print(f\"Potion_strength: {potion_strength}\")\n",
    "        print(f\"Player_health: {player_health}\")\n",
    "\n",
    "    # Here I can call potion_health\n",
    "    potion_health()\n",
    "\n",
    "\n",
    "# I can't call this function here, because it is only on local scope\n",
    "# from the function game()\n",
    "# potion_health()\n",
    "game()\n",
    "print(f\"Player_health: {player_health}\")\n",
    "# I can't call potion_strength here, because this is not define here\n",
    "# print(f\"Potion_strength: {potion_strength}\")\n"
   ]
  },
  {
   "cell_type": "code",
   "execution_count": 18,
   "metadata": {},
   "outputs": [
    {
     "name": "stdout",
     "output_type": "stream",
     "text": [
      "Skeleton\n"
     ]
    }
   ],
   "source": [
    "# There is no Block Scope\n",
    "\n",
    "game_level = 3\n",
    "enemies = [ \"Skeleton\", \"Zombie\", \"Alien\"]\n",
    "\n",
    "if game_level < 5:\n",
    "    new_enemy = enemies[0]\n",
    "\n",
    "print(new_enemy)\n"
   ]
  },
  {
   "cell_type": "code",
   "execution_count": 19,
   "metadata": {},
   "outputs": [
    {
     "name": "stdout",
     "output_type": "stream",
     "text": [
      "Skeleton\n"
     ]
    }
   ],
   "source": [
    "game_level = 3\n",
    "\n",
    "def create_enemy():\n",
    "    enemies = [ \"Skeleton\", \"Zombie\", \"Alien\"]\n",
    "\n",
    "    if game_level < 5:\n",
    "        new_enemy = enemies[0]\n",
    "\n",
    "    return new_enemy\n",
    "\n",
    "print(create_enemy())\n",
    "# Here we have can't use new_enemy, because is a local variable\n",
    "# print(new_enemy)\n"
   ]
  },
  {
   "cell_type": "code",
   "execution_count": 21,
   "metadata": {},
   "outputs": [
    {
     "name": "stdout",
     "output_type": "stream",
     "text": [
      "function: enemies inside function: Zombie\n",
      "print1: enemies outside function: Skeleton\n"
     ]
    }
   ],
   "source": [
    "\n",
    "enemies = \"Skeleton\"\n",
    "\n",
    "def increase_enemies():\n",
    "    enemies = \"Zombie\"\n",
    "    print(f\"function: enemies inside function: {enemies}\")\n",
    "\n",
    "increase_enemies()\n",
    "print(f\"print1: enemies outside function: {enemies}\")\n"
   ]
  },
  {
   "cell_type": "code",
   "execution_count": 23,
   "metadata": {},
   "outputs": [
    {
     "name": "stdout",
     "output_type": "stream",
     "text": [
      "function: enemies inside function: 2\n",
      "print1: enemies outside function: 2\n"
     ]
    }
   ],
   "source": [
    "# Modifying Global Scope\n",
    "\n",
    "enemies = 1\n",
    "\n",
    "def increase_enemies():\n",
    "    # We don't want to do it, every time.\n",
    "    # Try to. Avoid that\n",
    "    global enemies\n",
    "    # Using global variable\n",
    "    enemies += 1\n",
    "    print(f\"function: enemies inside function: {enemies}\")\n",
    "\n",
    "increase_enemies()\n",
    "print(f\"print1: enemies outside function: {enemies}\")\n"
   ]
  },
  {
   "cell_type": "code",
   "execution_count": 24,
   "metadata": {},
   "outputs": [
    {
     "name": "stdout",
     "output_type": "stream",
     "text": [
      "function: enemies inside function: 1\n",
      "print1: enemies outside function: 2\n"
     ]
    }
   ],
   "source": [
    "# Modifying Global Scope - Continue\n",
    "enemies = 1\n",
    "\n",
    "def increase_enemies():\n",
    "    print(f\"function: enemies inside function: {enemies}\")\n",
    "    return enemies + 1\n",
    "\n",
    "enemies = increase_enemies()\n",
    "print(f\"print1: enemies outside function: {enemies}\")\n"
   ]
  },
  {
   "cell_type": "code",
   "execution_count": 25,
   "metadata": {},
   "outputs": [
    {
     "name": "stdout",
     "output_type": "stream",
     "text": [
      "28.27431\n"
     ]
    }
   ],
   "source": [
    "# Global Constants\n",
    "\n",
    "# Try to avoid use global variable\n",
    "# But sometimes this is useful\n",
    "PI = 3.14159\n",
    "URL = \"https://www.google.com\"\n",
    "TWITTER_HANDLE = \"@yu_angela\"\n",
    "# Try to use global variable, just to variable that no will be modify\n",
    "\n",
    "def calc_area_circle(radius):\n",
    "    return radius * radius * PI\n",
    "\n",
    "print(calc_area_circle(3))\n"
   ]
  },
  {
   "cell_type": "code",
   "execution_count": 13,
   "metadata": {},
   "outputs": [
    {
     "name": "stdout",
     "output_type": "stream",
     "text": [
      "Welcome to the Number Guessing Game!!!\n",
      "I'm thinking of a number between 1 and 100.\n",
      "You have 5 attempts remaining to guess the number.\n",
      "Too low.\n",
      "Guess again.\n",
      "You have 4 attempts remaining to guess the number.\n",
      "Too high.\n",
      "Guess again.\n",
      "You have 3 attempts remaining to guess the number.\n",
      "Too low.\n",
      "Guess again.\n",
      "You have 2 attempts remaining to guess the number.\n",
      "Too low.\n",
      "Guess again.\n",
      "You have 1 attempts remaining to guess the number.\n",
      "You got it! The answer was 69.\n"
     ]
    },
    {
     "data": {
      "text/plain": [
       "<module 'project_guessing_number' from '/home/vanessa/cursos/python_class/day12/project_guessing_number.py'>"
      ]
     },
     "execution_count": 13,
     "metadata": {},
     "output_type": "execute_result"
    }
   ],
   "source": [
    "# Final Project: The number guessing game\n",
    "import project_guessing_number\n",
    "project_guessing_number\n"
   ]
  },
  {
   "cell_type": "code",
   "execution_count": null,
   "metadata": {},
   "outputs": [
    {
     "name": "stdout",
     "output_type": "stream",
     "text": [
      "\n",
      "  / _ \\_   _  ___  ___ ___  /__   \\ |__   ___    /\\ \\ \\_   _ _ __ ___ | |__   ___ _ __\n",
      " / /_\\/ | | |/ _ \\/ __/ __|   / /\\/ '_ \\ / _ \\  /  \\/ / | | | '_ ` _ \\| '_ \\ / _ \\ '__|\n",
      "/ /_\\| |_| |  __/\\__ \\__ \\  / /  | | | |  __/ / /\\  /| |_| | | | | | | |_) |  __/ |\n",
      "\\____/ \\__,_|\\___||___/___/  \\/   |_| |_|\\___| \\_\\ \\/  \\__,_|_| |_| |_|_.__/ \\___|_|\n",
      "\n",
      "Welcome to the Number Guessing Game!\n",
      "I'm thinking of a number between 1 and 100.\n"
     ]
    }
   ],
   "source": [
    "# Final Project: The number guessing game\n",
    "# Doing together\n",
    "\n",
    "# Use this site to create a beautiful art to your project:\n",
    "#                                   https://patorjk.com/software/taag/#p=display&f=Script&t=The%20Guess%20Number\n",
    "\n",
    "# Use this site, with you want to see how the code works:\n",
    "#                                   https://pythontutor.com/visualize.html#mode=edit\n",
    "\n",
    "from project_guess_together import game\n",
    "\n",
    "game()\n"
   ]
  }
 ],
 "metadata": {
  "kernelspec": {
   "display_name": "cursos",
   "language": "python",
   "name": "python3"
  },
  "language_info": {
   "codemirror_mode": {
    "name": "ipython",
    "version": 3
   },
   "file_extension": ".py",
   "mimetype": "text/x-python",
   "name": "python",
   "nbconvert_exporter": "python",
   "pygments_lexer": "ipython3",
   "version": "3.8.18"
  }
 },
 "nbformat": 4,
 "nbformat_minor": 2
}
