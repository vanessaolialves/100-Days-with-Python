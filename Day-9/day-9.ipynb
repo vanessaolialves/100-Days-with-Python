{
 "cells": [
  {
   "cell_type": "code",
   "execution_count": null,
   "metadata": {},
   "outputs": [],
   "source": [
    "# Day 9 - Dictionaries, Nesting and the Secret Auction\n",
    "\n",
    "# Final Project - the Secret Auction Program\n"
   ]
  },
  {
   "cell_type": "code",
   "execution_count": 2,
   "metadata": {},
   "outputs": [
    {
     "name": "stdout",
     "output_type": "stream",
     "text": [
      "\n",
      "An error in a program that prevents the program from running as expected.\n",
      "A piece of code that you can easily call over and over again.\n",
      "number integer\n",
      "\n",
      "{'Bug': 'An error in a program that prevents the program from running as expected.', 'Function': 'A piece of code that you can easily call over and over again.', 123: 'number integer', 'Loop': 'The action of doing something over and over again.'}\n",
      "\n",
      "{'Bug': 'A moth in your computer', 'Function': 'A piece of code that you can easily call over and over again.', 123: 'number integer', 'Loop': 'The action of doing something over and over again.'}\n",
      "\n",
      "Bug\n",
      "A moth in your computer\n",
      "Function\n",
      "A piece of code that you can easily call over and over again.\n",
      "123\n",
      "number integer\n",
      "Loop\n",
      "The action of doing something over and over again.\n",
      "\n",
      "{}\n"
     ]
    }
   ],
   "source": [
    "# The Python Dictionary: Deep Dive\n",
    "\n",
    "'''\n",
    "key        |  value\n",
    "------------------------------------------------------------------------------------------\n",
    "Bug        |  An error in a program that prevents the program from running as expected.\n",
    "Function   |  A piece of code that you can easily call over and over again.\n",
    "Loop       |  The action of doing something over and over again.\n",
    "\n",
    "in python:\n",
    "{key: value}\n",
    "\n",
    "{\n",
    "\"Bug\":\"An error in a program that prevents the program from running as expected.\",\n",
    "\"Function\":\"A piece of code that you can easily call over and over again.\",\n",
    "\"Loop\":\"The action of doing something over and over again.\"\n",
    "}\n",
    "\n",
    "'''\n",
    "\n",
    "programming_dictionary = {\n",
    "    \"Bug\":\"An error in a program that prevents the program from running as expected.\",\n",
    "    \"Function\":\"A piece of code that you can easily call over and over again.\",\n",
    "    123: \"number integer\"\n",
    "}\n",
    "\n",
    "print()\n",
    "# Retrieving items from dictionary.\n",
    "print(programming_dictionary[\"Bug\"])\n",
    "print(programming_dictionary[\"Function\"])\n",
    "print(programming_dictionary[123])\n",
    "\n",
    "print()\n",
    "# Adding new items to dictionary.\n",
    "programming_dictionary[\"Loop\"] = \"The action of doing something over and over again.\"\n",
    "print(programming_dictionary)\n",
    "\n",
    "# Create an empty dictionary\n",
    "empty_dictionary = {}\n",
    "\n",
    "print()\n",
    "# Edit an item in a dictionary\n",
    "programming_dictionary[\"Bug\"] = \"A moth in your computer\"\n",
    "print(programming_dictionary)\n",
    "\n",
    "print()\n",
    "# Loop through a dictionary\n",
    "for thing in programming_dictionary:\n",
    "    print(thing)\n",
    "    print(programming_dictionary[thing])\n",
    "\n",
    "print()\n",
    "# Wipe an existing dictionary\n",
    "programming_dictionary = {}\n",
    "print(programming_dictionary)\n"
   ]
  }
 ],
 "metadata": {
  "kernelspec": {
   "display_name": "cursos",
   "language": "python",
   "name": "python3"
  },
  "language_info": {
   "codemirror_mode": {
    "name": "ipython",
    "version": 3
   },
   "file_extension": ".py",
   "mimetype": "text/x-python",
   "name": "python",
   "nbconvert_exporter": "python",
   "pygments_lexer": "ipython3",
   "version": "3.8.18"
  }
 },
 "nbformat": 4,
 "nbformat_minor": 2
}
