{
 "cells": [
  {
   "cell_type": "code",
   "execution_count": 5,
   "metadata": {},
   "outputs": [
    {
     "name": "stdout",
     "output_type": "stream",
     "text": [
      "Apple\n",
      "Apple Pie\n",
      "Peach\n",
      "Peach Pie\n",
      "Pear\n",
      "Pear Pie\n",
      "['Apple', 'Peach', 'Pear']\n"
     ]
    }
   ],
   "source": [
    "# Day 5\n",
    "# For Loops, Range and Code Blocks\n",
    "\n",
    "# Looking if your password was hacked\n",
    "# https://haveibeenpwned.com/\n",
    "\n",
    "# Creating in the End This day a password generator\n",
    "\n",
    "# Loops\n",
    "# For Loop\n",
    "'''\n",
    "for item in list_of_items:\n",
    "    # Do something to each item\n",
    "\n",
    "'''\n",
    "\n",
    "\n",
    "fruits = ['Apple', 'Peach', 'Pear']\n",
    "# Before LOOP\n",
    "for fruit in fruits:\n",
    "    # For each of fruits, inside de list of fruits, this will print a fruit\n",
    "    # Inside LOOP\n",
    "    print(fruit)\n",
    "    print(fruit + ' Pie')\n",
    "# After LOOP\n",
    "print(fruits)\n"
   ]
  },
  {
   "cell_type": "code",
   "execution_count": 12,
   "metadata": {},
   "outputs": [
    {
     "name": "stdout",
     "output_type": "stream",
     "text": [
      "Total Height: 857\n",
      "Number of Students: 5\n",
      "Average height: 171\n",
      "171\n"
     ]
    }
   ],
   "source": [
    "# Exercise 1 - Average Height\n",
    "\n",
    "# You are going to write a program that calculates\n",
    "# the average student height from a List of heights.\n",
    "# e.g. student_heights = [180, 124, 165, 173, 189, 169, 146]\n",
    "# The average height can be calculated by adding all\n",
    "# the heights together and dividing by the total number of heights.\n",
    "# e.g.\n",
    "# 180 + 124 + 165 + 173 + 189 + 169 + 146 = 1146\n",
    "# There are a total of 7 heights in student_heights\n",
    "# 1146 ÷ 7 = 163.71428571428572\n",
    "# Average height rounded to the nearest whole number = 164\n",
    "# Important You should not use the sum() or len() functions in your answer.\n",
    "# You should try to replicate their functionality using what you have learnt about for loops.\n",
    "\n",
    "# Input:\n",
    "# Enter with a list of height in cm.\n",
    "# Ex: 156 178 165 171 187\n",
    "#\n",
    "# Output:\n",
    "# Calculate the average\n",
    "# Ex: 171\n",
    "\n",
    "\n",
    "student_heights = input(\"Input a list of student heights \").split()\n",
    "for n in range(0, len(student_heights)):\n",
    "  student_heights[n] = int(student_heights[n])\n",
    "\n",
    "# Using Loop\n",
    "sum_of_height = 0\n",
    "num_of_height = 0\n",
    "for height in student_heights:\n",
    "  sum_of_height += height\n",
    "  num_of_height += 1\n",
    "\n",
    "print(f'Total Height: {sum_of_height}')\n",
    "print(f'Number of Students: {num_of_height}')\n",
    "\n",
    "average = round(sum_of_height/num_of_height)\n",
    "\n",
    "print(f'Average height: {average}')\n",
    "\n",
    "\n",
    "# Using functions\n",
    "sum_of_height = sum(student_heights)\n",
    "num_of_height = len(student_heights)\n",
    "\n",
    "average = round(sum_of_height/num_of_height)\n",
    "\n",
    "print(average)\n"
   ]
  },
  {
   "cell_type": "code",
   "execution_count": 13,
   "metadata": {},
   "outputs": [
    {
     "name": "stdout",
     "output_type": "stream",
     "text": [
      "[78, 65, 89, 86, 55, 91, 64, 89]\n",
      "The highest score in the class is: 91\n",
      "The highest score in the class is: 91\n"
     ]
    }
   ],
   "source": [
    "# Exercise 2 - High Score\n",
    "\n",
    "# You are going to write a program that calculates the highest score from a List of scores.\n",
    "# e.g. student_scores = [78, 65, 89, 86, 55, 91, 64, 89]\n",
    "# Important you are not allowed to use the max or min functions.\n",
    "# The output words must match the example. i.e\n",
    "# The highest score in the class is: x\n",
    "\n",
    "# Input:\n",
    "# Enter with a list of scores\n",
    "# Ex: 78 65 89 86 55 91 64 89\n",
    "#\n",
    "# Output:\n",
    "# Find the highest score and print\n",
    "# Ex: The highest score in the class is: 91\n",
    "\n",
    "\n",
    "student_scores = input(\"Input a list of student scores \").split()\n",
    "for n in range(0, len(student_scores)):\n",
    "  student_scores[n] = int(student_scores[n])\n",
    "print(student_scores)\n",
    "\n",
    "# Using LOOP\n",
    "highest_score = 0\n",
    "for score in student_scores:\n",
    "  if score > highest_score:\n",
    "    highest_score = score\n",
    "\n",
    "print(f'The highest score in the class is: {highest_score}')\n",
    "\n",
    "# Using functions\n",
    "highest_score = max(student_scores)\n",
    "print(f'The highest score in the class is: {highest_score}')\n"
   ]
  }
 ],
 "metadata": {
  "kernelspec": {
   "display_name": "Python 3",
   "language": "python",
   "name": "python3"
  },
  "language_info": {
   "codemirror_mode": {
    "name": "ipython",
    "version": 3
   },
   "file_extension": ".py",
   "mimetype": "text/x-python",
   "name": "python",
   "nbconvert_exporter": "python",
   "pygments_lexer": "ipython3",
   "version": "3.8.10"
  }
 },
 "nbformat": 4,
 "nbformat_minor": 2
}
