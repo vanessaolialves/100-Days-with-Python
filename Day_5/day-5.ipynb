{
 "cells": [
  {
   "cell_type": "code",
   "execution_count": null,
   "metadata": {},
   "outputs": [],
   "source": [
    "# Day 5\n",
    "# For Loops, Range and Code Blocks\n",
    "\n",
    "# Looking if your password was hacked\n",
    "# https://haveibeenpwned.com/\n",
    "\n",
    "# Creating in the End This day a password generator\n"
   ]
  }
 ],
 "metadata": {
  "language_info": {
   "name": "python"
  }
 },
 "nbformat": 4,
 "nbformat_minor": 2
}
