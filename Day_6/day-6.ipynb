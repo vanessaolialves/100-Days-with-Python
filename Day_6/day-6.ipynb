{
 "cells": [
  {
   "cell_type": "code",
   "execution_count": 2,
   "metadata": {},
   "outputs": [
    {
     "name": "stdout",
     "output_type": "stream",
     "text": [
      "Hello\n",
      "5\n"
     ]
    }
   ],
   "source": [
    "# Day 6\n",
    "# Functions, Code Blocks and While Loops\n",
    "\n",
    "# Functions\n",
    "# Functions in Python: https://docs.python.org/3/library/functions.htmlc\n",
    "\n",
    "print('Hello')\n",
    "print(len('Hello'))\n",
    "\n",
    "\n",
    "# Create a function in Python (our own function)\n",
    "'''\n",
    "# Definition of my function\n",
    "# use def to indicate this is a function\n",
    "# In name write the name you want to give to your function,\n",
    "#   remember name follow the same ruler to name variables\n",
    "# after the name open and close parentheses if you don't have parameters\n",
    "# if you have parameters, where you write parameters put the name your parameters separate to comma\n",
    "#   to name your parameters use the same ruler to name variables\n",
    "# after close the parentheses use colon\n",
    "# in other line using indentation write what ever you want to execute\n",
    "# You have your function definition, if you want to use your function, call it\n",
    "def name(parameters):\n",
    "    # Everything I want to be executed\n",
    "    # Do this\n",
    "    # Then do this\n",
    "    # Finally do this\n",
    "\n",
    "\n",
    "# Calling function\n",
    "name()\n",
    "'''\n",
    "def my_function():\n",
    "    print('Hello')\n",
    "    print('bye')\n",
    "\n",
    "# here i didn't call my function\n"
   ]
  },
  {
   "cell_type": "code",
   "execution_count": 3,
   "metadata": {},
   "outputs": [
    {
     "name": "stdout",
     "output_type": "stream",
     "text": [
      "Hello\n",
      "bye\n"
     ]
    }
   ],
   "source": [
    "# Here i am calling my function\n",
    "my_function()\n"
   ]
  },
  {
   "cell_type": "code",
   "execution_count": null,
   "metadata": {},
   "outputs": [],
   "source": [
    "pip install matplotlib\n"
   ]
  },
  {
   "cell_type": "code",
   "execution_count": 6,
   "metadata": {},
   "outputs": [
    {
     "data": {
      "image/png": "[encoded data removed]",
      "text/plain": [
       "<Figure size 640x480 with 1 Axes>"
      ]
     },
     "metadata": {},
     "output_type": "display_data"
    },
    {
     "name": "stdout",
     "output_type": "stream",
     "text": [
      "Turn to the left\n",
      "Next step\n",
      "Turn to the left\n",
      "Turn to the left\n",
      "Turn to the left\n",
      "Next step\n",
      "Turn to the left\n",
      "Turn to the left\n",
      "Turn to the left\n",
      "Next step\n",
      "Turn to the left\n",
      "Turn to the left\n",
      "Turn to the left\n",
      "Next step\n",
      "Turn to the left\n",
      "Turn to the left\n",
      "Next step\n",
      "Next step\n",
      "Next step\n",
      "Next step\n",
      "Next step\n",
      "Next step\n",
      "Next step\n",
      "Next step\n",
      "Next step\n",
      "Turn to the left\n",
      "Next step\n",
      "Next step\n",
      "Next step\n",
      "Next step\n",
      "Next step\n",
      "Next step\n",
      "Next step\n",
      "Next step\n",
      "Next step\n",
      "Turn to the left\n",
      "Next step\n",
      "Next step\n",
      "Next step\n",
      "Next step\n",
      "Next step\n",
      "Next step\n",
      "Next step\n",
      "Next step\n",
      "Next step\n",
      "Turn to the left\n",
      "Next step\n",
      "Next step\n",
      "Next step\n",
      "Next step\n",
      "Next step\n",
      "Next step\n",
      "Next step\n",
      "Next step\n",
      "Next step\n"
     ]
    }
   ],
   "source": [
    "# Using: https://reeborg.ca/reeborg.html?lang=en&mode=python&menu=worlds%2Fmenus%2Freeborg_intro_en.json&name=Alone&url=worlds%2Ftutorial_en%2Falone.json\n",
    "# We know this program have two movement,\n",
    "#       move -> the robot will be to the next step\n",
    "#       turn_left -> the robot turn to the left\n",
    "# Moving the robot in the same way the image\n",
    "import matplotlib.pyplot as plt\n",
    "import matplotlib.image as mpimg\n",
    "\n",
    "img = mpimg.imread(\"draw_robot.jpeg\")\n",
    "imgplot = plt.imshow(img)\n",
    "plt.show()\n",
    "\n",
    "# We create some function to help us do have a lot of code and simplify the code\n",
    "# Create the function just to saw here the information will be print\n",
    "# In the program you don't need that\n",
    "def move():\n",
    "    print('Next step')\n",
    "\n",
    "def turn_left():\n",
    "    print('Turn to the left')\n",
    "\n",
    "\n",
    "# Here the code used in the program to draw the same thing in the image\n",
    "\n",
    "def turn_around():\n",
    "    turn_left()\n",
    "    turn_left()\n",
    "\n",
    "def turn_right():\n",
    "    turn_left()\n",
    "    turn_left()\n",
    "    turn_left()\n",
    "def move_end():\n",
    "    move()\n",
    "    move()\n",
    "    move()\n",
    "    move()\n",
    "    move()\n",
    "    move()\n",
    "    move()\n",
    "    move()\n",
    "    move()\n",
    "\n",
    "turn_left()\n",
    "move()\n",
    "turn_right()\n",
    "move()\n",
    "turn_right()\n",
    "move()\n",
    "turn_right()\n",
    "move()\n",
    "turn_around()\n",
    "move_end()\n",
    "turn_left()\n",
    "move_end()\n",
    "turn_left()\n",
    "move_end()\n",
    "turn_left()\n",
    "move_end()\n"
   ]
  },
  {
   "cell_type": "code",
   "execution_count": null,
   "metadata": {},
   "outputs": [],
   "source": []
  }
 ],
 "metadata": {
  "kernelspec": {
   "display_name": "Python 3",
   "language": "python",
   "name": "python3"
  },
  "language_info": {
   "codemirror_mode": {
    "name": "ipython",
    "version": 3
   },
   "file_extension": ".py",
   "mimetype": "text/x-python",
   "name": "python",
   "nbconvert_exporter": "python",
   "pygments_lexer": "ipython3",
   "version": "3.8.10"
  }
 },
 "nbformat": 4,
 "nbformat_minor": 2
}
