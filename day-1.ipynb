{
 "cells": [
  {
   "cell_type": "code",
   "execution_count": null,
   "metadata": {},
   "outputs": [],
   "source": [
    "# --------------------------------------------------- Day 1 ---------------------------------------------------\n",
    "\n",
    "# Start with Python\n",
    "# - Printing\n",
    "# - Learning about error\n",
    "# - String Concatenation\n",
    "# - Input data\n",
    "# - Variables\n",
    "# - Variables Naming"
   ]
  },
  {
   "cell_type": "code",
   "execution_count": 3,
   "metadata": {},
   "outputs": [
    {
     "name": "stdout",
     "output_type": "stream",
     "text": [
      "Hello world!\n"
     ]
    }
   ],
   "source": [
    "#Start with Python\n",
    "print(\"Hello world!\")"
   ]
  },
  {
   "cell_type": "code",
   "execution_count": 6,
   "metadata": {},
   "outputs": [
    {
     "name": "stdout",
     "output_type": "stream",
     "text": [
      "Day 1 - Python Print Function\n",
      "The function is declared like this:\n",
      "print('what to print')\n"
     ]
    }
   ],
   "source": [
    "# Exercise 1 - Printing\n",
    "# Write a program that prints the same notes from the previous lesson using \n",
    "# what you have learnt about the Python print function.\n",
    "\n",
    "# Input:\n",
    "# Output:\n",
    "# Day 1 - Python Print Function\n",
    "# The function is declared like this:\n",
    "# print('what to print')\n",
    "\n",
    "#Answer:\n",
    "print('Day 1 - Python Print Function\\nThe function is declared like this:\\nprint(\\'what to print\\')')\n",
    "\n",
    "# Another way\n",
    "print(\"Day 1 - Python Print Function\")\n",
    "print(\"The function is declared like this:\")\n",
    "print(\"print(\\'what to print\\')\")"
   ]
  },
  {
   "cell_type": "code",
   "execution_count": 7,
   "metadata": {},
   "outputs": [
    {
     "name": "stdout",
     "output_type": "stream",
     "text": [
      "\tHello World!!!\n",
      "Hello World!!!\n"
     ]
    }
   ],
   "source": [
    "# \\ will be utilize plus something. It meanings a enter(\\n), show quotation marks(\\n), tab(\\t) or other things\n",
    "print(\"\\tHello World!!!\\nHello World!!!\")\n",
    "# String Concatenation, is when i want to put to strings that was separate and join them. This is simply take\n",
    "# those separate string of characters and merging them into to one\n",
    "print(\"Hello \" + \" \" + \"Vanessa\")"
   ]
  },
  {
   "cell_type": "code",
   "execution_count": 5,
   "metadata": {},
   "outputs": [
    {
     "name": "stdout",
     "output_type": "stream",
     "text": [
      "Day 1 - String Manipulation\n",
      "String Concatenation is done with the \"+\" sign.\n",
      "e.g. print(\"Hello \" + \"world\")\n",
      "New lines can be created with a backslash and n.\n"
     ]
    }
   ],
   "source": [
    "# Exercise 2 - Debugging Practice\n",
    "# Look at the code in the code editor on the right. There are errors in all of the lines of code. \n",
    "# Fix the code so that it runs without errors.\n",
    "\n",
    "# Input:\n",
    "# Output:\n",
    "# Day 1 - String Manipulation\n",
    "# String Concatenation is done with the \"+\" sign.\n",
    "# e.g. print(\"Hello \" + \"world\")\n",
    "# New lines can be created with a backslash and n.\n",
    "\n",
    "'''\n",
    "# The code will be above\n",
    "# Missing double quotes in the start\n",
    "print(Day 1 - String Manipulation\")\n",
    "# plus between double quotes will be show, and not used to string concatenation\n",
    "print(\"String Concatenation is done with the \"+\" sign.\")\n",
    "# Extra tab or indentation\n",
    "  print('e.g. print(\"Hello \" + \"world\")')\n",
    "# Extra parentheses after the print\n",
    "print((\"New lines can be created with a backslash and n.\")\n",
    "\n",
    "'''\n",
    "\n",
    "print(\"Day 1 - String Manipulation\")\n",
    "print(\"String Concatenation is done with the \\\"+\\\" sign.\")\n",
    "print('e.g. print(\"Hello \" + \"world\")')\n",
    "print(\"New lines can be created with a backslash and n.\")\n",
    "\n",
    "#Another way:\n",
    "#Now using different quotation marks\n",
    "print(\"Day 1 - String Manipulation\")\n",
    "print('String Concatenation is done with the \"+\" sign.')\n",
    "print('e.g. print(\"Hello \" + \"world\")')\n",
    "print(\"New lines can be created with a backslash and n.\")"
   ]
  },
  {
   "cell_type": "code",
   "execution_count": 2,
   "metadata": {},
   "outputs": [
    {
     "name": "stdout",
     "output_type": "stream",
     "text": [
      "Hello my friend, you must to be Vanessa\n"
     ]
    }
   ],
   "source": [
    "# Comments in line we use # \n",
    "'''\n",
    "Comments with more words \n",
    "will be start with 3 quotes simple, \n",
    "write what you want, like i insert my comment here,\n",
    "and finish with 3 quotes simple\n",
    "'''\n",
    "\n",
    "# In order The User Send something to the code, we use a function input(prompt), prompt will be the message, \n",
    "# that will be appear in the terminal before the User insert what he what\n",
    "input('What is yout name?')\n",
    "\n",
    "# Another way, will be use input to ask to The User say something \n",
    "# and use print to show something with The User pass\n",
    "print(\"Hello \" + input('What is yout name?' + \"!!!\"))\n"
   ]
  },
  {
   "cell_type": "code",
   "execution_count": 4,
   "metadata": {},
   "outputs": [
    {
     "name": "stdout",
     "output_type": "stream",
     "text": [
      "7\n",
      "7\n"
     ]
    }
   ],
   "source": [
    "# Exercise 3 - Input Function\n",
    "# Write a program that prints the number of characters in a user's name. \n",
    "# You might need to Google for a function that calculates the length of a string.\n",
    "\n",
    "# Input:\n",
    "# Characters sends by User. Ex: Vanessa\n",
    "# Output:\n",
    "# Number of characters in the input. Ex: 7\n",
    "\n",
    "name = input('What is your name? ')\n",
    "print(len(name))\n",
    "\n",
    "# Another way:\n",
    "print(len(input('What is your name? ')))"
   ]
  },
  {
   "cell_type": "code",
   "execution_count": 5,
   "metadata": {},
   "outputs": [
    {
     "name": "stdout",
     "output_type": "stream",
     "text": [
      "Jack\n",
      "Angela\n",
      "4\n"
     ]
    }
   ],
   "source": [
    "# Variable\n",
    "\n",
    "# It is a information stored by the program, \n",
    "# your value can be change depending on conditions or information\n",
    "# Variables are simply containers for storing data values.\n",
    "# The name we give to the variable is a simplification of address, \n",
    "# where that information will be stored.\n",
    "# You can think of them as labels you attach to values to keep track of them.\n",
    "\n",
    "name = \"Jack\"\n",
    "print(name)\n",
    "\n",
    "name = \"Angela\"\n",
    "print(name)\n",
    "\n",
    "name = input('What is your name? ')\n",
    "length = len(name)\n",
    "print(length)\n"
   ]
  },
  {
   "cell_type": "code",
   "execution_count": 6,
   "metadata": {},
   "outputs": [
    {
     "name": "stdout",
     "output_type": "stream",
     "text": [
      "a: 3\n",
      "b: 5\n"
     ]
    }
   ],
   "source": [
    "# Exercise 4 - Variables\n",
    "# Write a program that switches the values stored in the variables a and b.\n",
    "\n",
    "# Input:\n",
    "# Receive the values of a and b. \n",
    "# Ex: a: 3\n",
    "#     b: 5\n",
    "# Output:\n",
    "# Change the values of a with b.\n",
    "# Ex: a: 5\n",
    "#     b: 3\n",
    "\n",
    "\n",
    "a = input('a: ')\n",
    "b = input('b: ')\n",
    "\n",
    "c = a\n",
    "a = b\n",
    "b = c\n",
    "\n",
    "print('a: ' + a)\n",
    "print('b: ' + b)"
   ]
  },
  {
   "cell_type": "code",
   "execution_count": 7,
   "metadata": {},
   "outputs": [
    {
     "name": "stdout",
     "output_type": "stream",
     "text": [
      "Jack\n",
      "Jack\n",
      "Angel\n"
     ]
    }
   ],
   "source": [
    "# Variable naming\n",
    "\n",
    "# It must start with a letter or an underscore character (_) \n",
    "# It cannot start with a digit. \n",
    "# A variable name can only contain alpha-numeric characters and underscores ( a-z, A-Z , 0-9 , and _ ) \n",
    "# Variable names are case-sensitive (name, Name and NAME are three different variables)\n",
    "# Be careful with the variable that you write\n",
    "\n",
    "name = \"Jack\"\n",
    "print(name)\n",
    "# Here prints Jack\n",
    "\n",
    "nama = \"Angel\"\n",
    "print(name)\n",
    "# Here prints Jack, but i want to print Angel, but i spell wrong the variable name\n",
    "# So i have a new variable, because that prints Jack again.\n",
    "\n",
    "name = \"Angel\"\n",
    "print(name)\n",
    "# Here prints Angel"
   ]
  },
  {
   "cell_type": "code",
   "execution_count": 8,
   "metadata": {},
   "outputs": [
    {
     "name": "stdout",
     "output_type": "stream",
     "text": [
      "Welcome to the Band Name Generator\n",
      "Your Band Name is citypet\n"
     ]
    }
   ],
   "source": [
    "\n",
    "# Day 1 Project: Band Name Generator\n",
    "\n",
    "# 1. Create a greeting for your program.\n",
    "print('Welcome to the Band Name Generator.')\n",
    "\n",
    "# 2. Ask the user for the city that they grew up in.\n",
    "city = input(\"What's name of the city you grew up in?\\n\")\n",
    "\n",
    "# 3. Ask the user for the name of a pet.\n",
    "pet = input(\"What's name of a pet?\\n\")\n",
    "\n",
    "# 4. Combine the name of their city and pet  and show them their band name\n",
    "bandname = city + pet\n",
    "print('Your Band Name is ' + bandname)\n",
    "\n",
    "# 5. Make sure the input cursor shows on a new line."
   ]
  }
 ],
 "metadata": {
  "kernelspec": {
   "display_name": "Python 3",
   "language": "python",
   "name": "python3"
  },
  "language_info": {
   "codemirror_mode": {
    "name": "ipython",
    "version": 3
   },
   "file_extension": ".py",
   "mimetype": "text/x-python",
   "name": "python",
   "nbconvert_exporter": "python",
   "pygments_lexer": "ipython3",
   "version": "3.8.10"
  },
  "orig_nbformat": 4
 },
 "nbformat": 4,
 "nbformat_minor": 2
}
