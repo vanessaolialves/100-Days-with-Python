{
 "cells": [
  {
   "cell_type": "code",
   "execution_count": 2,
   "metadata": {},
   "outputs": [
    {
     "name": "stdout",
     "output_type": "stream",
     "text": [
      "Angel Miu\n",
      "MakeItPascalCase\n"
     ]
    }
   ],
   "source": [
    "# Functions with Outputs\n",
    "\n",
    "'''\n",
    "# Functions\n",
    "def my_function():\n",
    "    # Do this\n",
    "    # Then do this\n",
    "    # Finally do this\n",
    "\n",
    "my_function()\n",
    "\n",
    "# Functions with inputs\n",
    "def my_function(something):\n",
    "    # Do this with something\n",
    "    # Then do this\n",
    "    # Finally do this\n",
    "\n",
    "my_function(123)\n",
    "\n",
    "# Functions with outputs\n",
    "def my_function():\n",
    "    # Do this\n",
    "    result = 3 * 2\n",
    "    # Then do this result\n",
    "    # Finally do this\n",
    "    return result\n",
    "\n",
    "output = my_function()\n",
    "\n",
    "'''\n",
    "# HINT: https://docs.python.org/3/library/stdtypes.html#str.title\n",
    "\n",
    "def format_name(f_name, l_name):\n",
    "    # receive = angeLa YU\n",
    "    # return = Angela Yu\n",
    "    formated_f_name = f_name.title()\n",
    "    formated_l_name = l_name.title()\n",
    "    return f\"{formated_f_name} {formated_l_name}\"\n",
    "\n",
    "forrmated_string = format_name(\"AnGeL\", \"miu\")\n",
    "print(forrmated_string)\n",
    "\n",
    "\n",
    "\n",
    "# Other thing random about formate in Pascal case\n",
    "def format_PascalCase(words):\n",
    "    return ''.join(x for x in words.title() if not x.isspace())\n",
    "\n",
    "print(format_PascalCase('make It pascal Case'))\n"
   ]
  },
  {
   "cell_type": "code",
   "execution_count": 4,
   "metadata": {},
   "outputs": [
    {
     "name": "stdout",
     "output_type": "stream",
     "text": [
      "Your Name: Jack Bauer\n",
      "You didn't provide valid inputs.\n",
      "You didn't provide valid inputs.\n"
     ]
    }
   ],
   "source": [
    "def format_name(f_name, l_name):\n",
    "    if f_name == \"\" or l_name == \"\":\n",
    "        return \"You didn't provide valid inputs.\"\n",
    "    formated_f_name = f_name.title()\n",
    "    formated_l_name = l_name.title()\n",
    "    return f\"Your Name: {formated_f_name} {formated_l_name}\"\n",
    "\n",
    "\n",
    "print(format_name(\"jack\", \"BAUER\"))\n",
    "print(format_name(\"\", \"second\"))\n",
    "print(format_name(input(\"What is your first name? \"), input(\"What is your last name? \")))\n"
   ]
  },
  {
   "cell_type": "code",
   "execution_count": 6,
   "metadata": {},
   "outputs": [
    {
     "name": "stdout",
     "output_type": "stream",
     "text": [
      "31\n",
      "\n",
      "28\n",
      "\n",
      "29\n"
     ]
    }
   ],
   "source": [
    "# DAY 10 - DAYS IN MONTH\n",
    "\n",
    "# Convert the is_leap() functtion\n",
    "# In the starting code, you'll find the solution from the Leap Year challenge.\n",
    "# First, convert this function is_leap() so that instead of printing \"Leap year.\" or \"Not leap year.\"\n",
    "# it should return True if it is a leap year and return False if it is not a leap year.\n",
    "\n",
    "# Create a new function called days_in_month()\n",
    "# You are then going to modify a function called days_in_month() which will take a year and a month as inputs, e.g.\n",
    "\n",
    "# days_in_month(year=2022, month=2)\n",
    "# And it will use this information to work out if the year is a leap year and decide the number of days in the month,\n",
    "# then return that as the output, e.g.:\n",
    "\n",
    "# 28\n",
    "# The List month_days contains the number of days in a month from January to December for a non-leap year.\n",
    "# A leap year has 29 days in February.\n",
    "\n",
    "# Hint:\n",
    "#   Look at the function call at the bottom of the code to see the positional arguments. The order is very important.\n",
    "#   Feel free to choose your own parameter names.\n",
    "#   Remember that month_days is a List and Lists in Python start at position 0.\n",
    "#   So the number of days in January is month_days[0]\n",
    "#   Be careful with indentation.\n",
    "\n",
    "'''\n",
    "# change this functions\n",
    "def is_leap(year):\n",
    "  if year % 4 == 0:\n",
    "    if year % 100 == 0:\n",
    "      if year % 400 == 0:\n",
    "        print(\"Leap year\")\n",
    "      else:\n",
    "        print(\"Not leap year\")\n",
    "    else:\n",
    "      print(\"Leap year\")\n",
    "  else:\n",
    "    print(\"Not leap year\")\n",
    "\n",
    "'''\n",
    "\n",
    "def is_leap(year):\n",
    "  if year % 4 == 0:\n",
    "    if year % 100 == 0:\n",
    "      if year % 400 == 0:\n",
    "        return True\n",
    "      else:\n",
    "        return False\n",
    "    else:\n",
    "      return True\n",
    "  else:\n",
    "    return False\n",
    "\n",
    "# TODO: Add more code here 👇\n",
    "def days_in_month(year, month):\n",
    "  month_days = [31, 28, 31, 30, 31, 30, 31, 31, 30, 31, 30, 31]\n",
    "  if month == 2 and is_leap(year):\n",
    "    return 29\n",
    "  else:\n",
    "    return month_days[month - 1]\n",
    "\n",
    "\n",
    "\n",
    "\n",
    "year = int(input()) # Enter a year\n",
    "month = int(input()) # Enter a month\n",
    "days = days_in_month(year, month)\n",
    "print(days)\n",
    "\n",
    "print()\n",
    "days = days_in_month(2001, 2)\n",
    "print(days)\n",
    "\n",
    "print()\n",
    "days = days_in_month(2000, 2)\n",
    "print(days)\n"
   ]
  },
  {
   "cell_type": "code",
   "execution_count": null,
   "metadata": {},
   "outputs": [],
   "source": [
    "# Docstrings\n",
    "\n",
    "# Already used functions with outputs.\n",
    "length = len(\"Name Second\")\n",
    "\n",
    "# Return as an early exit\n",
    "def format_name(f_name, l_name):\n",
    "    \"\"\"\n",
    "    Take a first and last name and format it\n",
    "    to return the title case version of the name.\n",
    "    \"\"\"\n",
    "    if f_name == \"\" or l_name == \"\":\n",
    "        return \"You didn't provide valid inputs.\"\n",
    "    formated_f_name = f_name.title()\n",
    "    formated_l_name = l_name.title()\n",
    "    return f\"Your Name: {formated_f_name} {formated_l_name}\"\n",
    "\n",
    "format_name()\n"
   ]
  },
  {
   "attachments": {
    "image.png": {
     "image/png": "[encoded data removed]"
    }
   },
   "cell_type": "markdown",
   "metadata": {},
   "source": [
    "![image.png](attachment:image.png)"
   ]
  },
  {
   "cell_type": "code",
   "execution_count": null,
   "metadata": {},
   "outputs": [],
   "source": []
  }
 ],
 "metadata": {
  "kernelspec": {
   "display_name": "cursos",
   "language": "python",
   "name": "python3"
  },
  "language_info": {
   "codemirror_mode": {
    "name": "ipython",
    "version": 3
   },
   "file_extension": ".py",
   "mimetype": "text/x-python",
   "name": "python",
   "nbconvert_exporter": "python",
   "pygments_lexer": "ipython3",
   "version": "3.8.18"
  }
 },
 "nbformat": 4,
 "nbformat_minor": 2
}
