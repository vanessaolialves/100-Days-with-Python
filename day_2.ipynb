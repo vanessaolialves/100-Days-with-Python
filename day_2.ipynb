{
 "cells": [
  {
   "cell_type": "code",
   "execution_count": 5,
   "metadata": {},
   "outputs": [
    {
     "name": "stdout",
     "output_type": "stream",
     "text": [
      "H\n",
      "o\n",
      "123345\n",
      "468\n",
      "123122321\n"
     ]
    }
   ],
   "source": [
    "# Data Types\n",
    "'''\n",
    "    String\n",
    "    Integer\n",
    "    Float\n",
    "    Boolean\n",
    "'''\n",
    "\n",
    "\n",
    "# String\n",
    "\"Hello\"\n",
    "'Hey there'\n",
    "print(\"Hello\"[0])\n",
    "print(\"Hello\"[-1])\n",
    "# This is not a number, but a string\n",
    "\"123\"\n",
    "# This will be String Concatenation\n",
    "# The answer is \"123345\"\n",
    "print(\"123\" + \"345\")\n",
    "\n",
    "#Integer\n",
    "\n",
    "# Here we have a sum two numbers\n",
    "print(123 + 345)\n",
    "\n",
    "print(123_122_321) # == 123122321\n",
    "\n",
    "#Float\n",
    "\n",
    "#pi\n",
    "3.14159\n",
    "\n",
    "# 6.8\n",
    "print(2.3 + 4.5)\n",
    "\n",
    "# Boolean\n",
    "\n",
    "# Just this to answer\n",
    "True\n",
    "False"
   ]
  },
  {
   "cell_type": "code",
   "execution_count": 14,
   "metadata": {},
   "outputs": [
    {
     "name": "stdout",
     "output_type": "stream",
     "text": [
      "<class 'str'>\n",
      "<class 'int'>\n",
      "<class 'str'>\n",
      "Your name has 3 characters.\n",
      "<class 'str'>\n",
      "<class 'float'>\n",
      "123\n"
     ]
    }
   ],
   "source": [
    "'''\n",
    "print(len(123))\n",
    "# TypeError: object of type 'int' has no len()\n",
    "\n",
    "num_char = len(input('What is your name?'))\n",
    "print(\"Your name has \" + num_char + \" characters.\")\n",
    "# TypeError: can only concatenate str (not \"int\") to str\n",
    "\n",
    "'''\n",
    "\n",
    "# Function type is to verification what type is that data.\n",
    "print(type(\"1233\"))\n",
    "# The answer will be str = string\n",
    "# Here we have same number, but we don't have quotation \n",
    "print(type(1233))\n",
    "# The answer will be int = integer\n",
    "\n",
    "# Conversion Type\n",
    "\n",
    "# The type is int and we convert in str\n",
    "is_str = str(1233)\n",
    "print(type(is_str))\n",
    "\n",
    "# The same code in the start, but to correct the error, we need to convert\n",
    "num_char = len(input('What is your name?'))\n",
    "# Now we convert to int to str, and we can concatenated it\n",
    "new_num_char = str(num_char)\n",
    "print(\"Your name has \" + new_num_char + \" characters.\")\n",
    "\n",
    "# Other convert types\n",
    "\n",
    "# int to string\n",
    "a = str(123)\n",
    "# type is str\n",
    "print(type(a))\n",
    "\n",
    "# int to float\n",
    "b = float(123)\n",
    "# type is float\n",
    "print(type(b))\n",
    "\n",
    "# str to int\n",
    "c = int('123')\n",
    "# type is int\n",
    "print(type(c))\n",
    "\n",
    "\n",
    "# What happen here?\n",
    "print(70 + float(\"100.5\"))\n",
    "# Transform str in float and sum 70 with 100.5, two number\n",
    "# The answer is 170.5\n",
    "\n",
    "# What happen here?\n",
    "print(str(70) + str(100))\n",
    "# Transform above numbers in string and concatenated this strings\n",
    "# The answer is 70100"
   ]
  },
  {
   "cell_type": "code",
   "execution_count": null,
   "metadata": {},
   "outputs": [],
   "source": []
  }
 ],
 "metadata": {
  "kernelspec": {
   "display_name": "Python 3",
   "language": "python",
   "name": "python3"
  },
  "language_info": {
   "codemirror_mode": {
    "name": "ipython",
    "version": 3
   },
   "file_extension": ".py",
   "mimetype": "text/x-python",
   "name": "python",
   "nbconvert_exporter": "python",
   "pygments_lexer": "ipython3",
   "version": "3.8.10"
  },
  "orig_nbformat": 4
 },
 "nbformat": 4,
 "nbformat_minor": 2
}
