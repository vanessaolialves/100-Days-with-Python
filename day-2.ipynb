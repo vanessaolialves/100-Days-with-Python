{
 "cells": [
  {
   "cell_type": "code",
   "execution_count": null,
   "metadata": {},
   "outputs": [],
   "source": [
    "# Day 2\n",
    "# \n",
    "# Data Types\n",
    "# Type\n",
    "# len\n",
    "# Mathematical Operations\n",
    "# PEMDAS\n",
    "# round"
   ]
  },
  {
   "cell_type": "code",
   "execution_count": 5,
   "metadata": {},
   "outputs": [
    {
     "name": "stdout",
     "output_type": "stream",
     "text": [
      "H\n",
      "o\n",
      "123345\n",
      "468\n",
      "123122321\n"
     ]
    }
   ],
   "source": [
    "# Data Types\n",
    "'''\n",
    "    String\n",
    "    Integer\n",
    "    Float\n",
    "    Boolean\n",
    "'''\n",
    "\n",
    "\n",
    "# String\n",
    "\"Hello\"\n",
    "'Hey there'\n",
    "print(\"Hello\"[0])\n",
    "print(\"Hello\"[-1])\n",
    "# This is not a number, but a string\n",
    "\"123\"\n",
    "# This will be String Concatenation\n",
    "# The answer is \"123345\"\n",
    "print(\"123\" + \"345\")\n",
    "\n",
    "#Integer\n",
    "\n",
    "# Here we have a sum two numbers\n",
    "print(123 + 345)\n",
    "\n",
    "print(123_122_321) # == 123122321\n",
    "\n",
    "#Float\n",
    "\n",
    "#pi\n",
    "3.14159\n",
    "\n",
    "# 6.8\n",
    "print(2.3 + 4.5)\n",
    "\n",
    "# Boolean\n",
    "\n",
    "# Just this to answer\n",
    "True\n",
    "False"
   ]
  },
  {
   "cell_type": "code",
   "execution_count": 14,
   "metadata": {},
   "outputs": [
    {
     "name": "stdout",
     "output_type": "stream",
     "text": [
      "<class 'str'>\n",
      "<class 'int'>\n",
      "<class 'str'>\n",
      "Your name has 3 characters.\n",
      "<class 'str'>\n",
      "<class 'float'>\n",
      "123\n"
     ]
    }
   ],
   "source": [
    "'''\n",
    "print(len(123))\n",
    "# TypeError: object of type 'int' has no len()\n",
    "\n",
    "num_char = len(input('What is your name?'))\n",
    "print(\"Your name has \" + num_char + \" characters.\")\n",
    "# TypeError: can only concatenate str (not \"int\") to str\n",
    "\n",
    "'''\n",
    "\n",
    "# Function type is to verification what type is that data.\n",
    "print(type(\"1233\"))\n",
    "# The answer will be str = string\n",
    "# Here we have same number, but we don't have quotation \n",
    "print(type(1233))\n",
    "# The answer will be int = integer\n",
    "\n",
    "# Conversion Type\n",
    "\n",
    "# The type is int and we convert in str\n",
    "is_str = str(1233)\n",
    "print(type(is_str))\n",
    "\n",
    "# The same code in the start, but to correct the error, we need to convert\n",
    "num_char = len(input('What is your name?'))\n",
    "# Now we convert to int to str, and we can concatenated it\n",
    "new_num_char = str(num_char)\n",
    "print(\"Your name has \" + new_num_char + \" characters.\")\n",
    "\n",
    "# Other convert types\n",
    "\n",
    "# int to string\n",
    "a = str(123)\n",
    "# type is str\n",
    "print(type(a))\n",
    "\n",
    "# int to float\n",
    "b = float(123)\n",
    "# type is float\n",
    "print(type(b))\n",
    "\n",
    "# str to int\n",
    "c = int('123')\n",
    "# type is int\n",
    "print(type(c))\n",
    "\n",
    "\n",
    "# What happen here?\n",
    "print(70 + float(\"100.5\"))\n",
    "# Transform str in float and sum 70 with 100.5, two number\n",
    "# The answer is 170.5\n",
    "\n",
    "# What happen here?\n",
    "print(str(70) + str(100))\n",
    "# Transform above numbers in string and concatenated this strings\n",
    "# The answer is 70100"
   ]
  },
  {
   "cell_type": "code",
   "execution_count": 4,
   "metadata": {},
   "outputs": [
    {
     "name": "stdout",
     "output_type": "stream",
     "text": [
      "9\n",
      "<class 'str'>\n",
      "12\n"
     ]
    }
   ],
   "source": [
    "# Exercise 1 - Data Types\n",
    "# Write a program that adds the digits in a 2 digit number. e.g. \n",
    "# if the input was 35, then the output should be 3 + 5 = 8\n",
    "\n",
    "# Input:\n",
    "# type two digit number. \n",
    "#       Ex: 26\n",
    "#           39\n",
    "# Output:\n",
    "# Will be the sum of the two digit\n",
    "#       Ex: 8\n",
    "#           12\n",
    "\n",
    "numbers = input('Type a two digit number: ')\n",
    "sum_digit = int(numbers[0]) + int(numbers[1])\n",
    "print(str(sum_digit))\n",
    "\n",
    "# Another way\n",
    "# Receive the two digit\n",
    "two_digit_number = input('Type a two digit number:')\n",
    "\n",
    "# Check the type of the data in two_digit_number\n",
    "print(type(two_digit_number))\n",
    "\n",
    "# Get the first and second digits using subscripting then convert string to int.\n",
    "first_digit = int(two_digit_number[0])\n",
    "second_digit = int(two_digit_number[1])\n",
    "\n",
    "# Add the two digits together\n",
    "result = second_digit + first_digit\n",
    "\n",
    "# Show the answer\n",
    "print(result)"
   ]
  },
  {
   "cell_type": "code",
   "execution_count": 7,
   "metadata": {},
   "outputs": [
    {
     "name": "stdout",
     "output_type": "stream",
     "text": [
      "8\n",
      "3\n",
      "6\n",
      "1.6666666666666667\n",
      "8\n",
      "7.0\n",
      "3.0\n"
     ]
    }
   ],
   "source": [
    "# Mathematical Operations\n",
    "# Sum\n",
    "print(3 + 5)\n",
    "\n",
    "# Subtraction\n",
    "print(7 - 4)\n",
    "\n",
    "# Multiplication\n",
    "print(3 * 2)\n",
    "\n",
    "# Division\n",
    "print(5/3)\n",
    "\n",
    "# Exponent\n",
    "print(2 ** 3)\n",
    "\n",
    "'''\n",
    "PEMDAS\n",
    "    Parentheses ()\n",
    "    Exponents **\n",
    "    Multiplication * | Division /\n",
    "    Addition + | Subtraction -\n",
    "'''\n",
    "\n",
    "# 3 * 3 + 3 / 3 - 3\n",
    "# 9 + 3 / 3 - 3\n",
    "# 9 + 1 - 3\n",
    "# 10 - 3\n",
    "# 7\n",
    "print(3 * 3 + 3 / 3 - 3)\n",
    "\n",
    "# Change the code to be 3 instead 7\n",
    "# 3 * (3 + 3 / 3 - 3)\n",
    "# 3 * (3 + 1 - 3)\n",
    "# 3 * (4 - 3)\n",
    "# 3 * 1\n",
    "# 3\n",
    "print(3 * (3 + 3 / 3 - 3))"
   ]
  },
  {
   "cell_type": "code",
   "execution_count": 16,
   "metadata": {},
   "outputs": [
    {
     "name": "stdout",
     "output_type": "stream",
     "text": [
      "19\n"
     ]
    }
   ],
   "source": [
    "# Exercise 2 - BMI Calculator\n",
    "# Write a program that calculates the Body Mass Index (BMI) from a user's weight and height.\n",
    "# The BMI is a measure of someone's weight taking into account their height. e.g. \n",
    "# If a tall person and a short person both weigh the same amount, the short person is usually more overweight.\n",
    "# The BMI is calculated by dividing a person's weight (in kg) by the square of their height (in m):\n",
    "\n",
    "# Input:\n",
    "#  Enter with your height and your weight. \n",
    "# Ex: height: 1.6\n",
    "#     weight: 50 \n",
    "# Output:\n",
    "# Calculate your BMI. \n",
    "# Ex: 19\n",
    "\n",
    "height = input(\"enter your height in m: \")\n",
    "weight = input(\"enter your weight in kg: \")\n",
    "\n",
    "bmi = int(weight) / (float(height) ** 2)\n",
    "bmi = int(weight) / (float(height) * float(height))\n",
    "bmi_as_int = int(bmi)\n",
    "\n",
    "print(bmi_as_int)"
   ]
  },
  {
   "cell_type": "code",
   "execution_count": 20,
   "metadata": {},
   "outputs": [
    {
     "name": "stdout",
     "output_type": "stream",
     "text": [
      "2\n",
      "3\n",
      "2.67\n",
      "2\n",
      "<class 'float'>\n",
      "<class 'float'>\n",
      "1\n",
      "2.0\n",
      "1\n",
      "your score is 0, your height is 1.8, you are winning is True\n"
     ]
    }
   ],
   "source": [
    "# When we do this, to transform a float in int, we have just the integer number and\n",
    "# the number after the point disappear\n",
    "# What if i want to round this number\n",
    "print(int(8/3))\n",
    "\n",
    "# Instead we transform float in int, we use the function round\n",
    "print(round(8/3))\n",
    "\n",
    "# We can decide the precision, if i want 2 number after the point.\n",
    "# I can use round with 2, that meaning, the precision number will be 2.\n",
    "print(round(2.66666666666666669, 2))\n",
    "\n",
    "# Now if i want just the integer in the division, i can use double /\n",
    "print(8 // 3)\n",
    "\n",
    "# Type division\n",
    "print(type(4/2))\n",
    "print(type(8/3))\n",
    "\n",
    "# If i want a mod about the division\n",
    "print(10%3)\n",
    "\n",
    "# when we want to do the division using a value in a variable and store in the same variable\n",
    "# we can do like that /=\n",
    "result = 8 / 2\n",
    "result /= 2\n",
    "print(result)\n",
    "\n",
    "# We can use that with other operation\n",
    "score = 0\n",
    "\n",
    "# User scores point\n",
    "score += 1\n",
    "print(score)\n",
    "\n",
    "# f-String\n",
    "# We can use this and we don't need to change the type of variables\n",
    "score = 0\n",
    "height = 1.8\n",
    "isWinning = True\n",
    "\n",
    "print(f\"your score is {score}, your height is {height}, you are winning is {isWinning}\")\n"
   ]
  },
  {
   "cell_type": "code",
   "execution_count": 19,
   "metadata": {},
   "outputs": [
    {
     "name": "stdout",
     "output_type": "stream",
     "text": [
      "You have 12410 days, 1768 weeks, and 408 months left.\n"
     ]
    }
   ],
   "source": [
    "# Exercise 3 - Life in Weeks\n",
    "# I was reading this article by Tim Urban - Your Life in Weeks and realised just how little time we actually have.\n",
    "# https://waitbutwhy.com/2014/05/life-weeks.html\n",
    "# Create a program using maths and f-Strings that tells us how many days, weeks, months \n",
    "# we have left if we live until 90 years old.\n",
    "# It will take your current age as the input and output a message with our time left in this format:\n",
    "# You have x days, y weeks, and z months left.\n",
    "# Where x, y and z are replaced with the actual calculated numbers.\n",
    "# Warning your output should match the Example Output format exactly, \n",
    "# even the positions of the commas and full stops.\n",
    "\n",
    "# Hint\n",
    "# There are 365 days in a year, 52 weeks in a year and 12 months in a year.\n",
    "\n",
    "# Input:\n",
    "# Enter with your age. \n",
    "# Ex: 56 \n",
    "# Output:\n",
    "# You will receive how many time you will live until 90 years.\n",
    "# Ex: You have 12410 days, 1768 weeks, and 408 months left.\n",
    "\n",
    "age = input('What is your current age?')\n",
    "age = int(age)\n",
    "years_remaining = 90 - age\n",
    "days_remaining = years_remaining * 365\n",
    "weeks_remaining = years_remaining * 52\n",
    "months_remaining = years_remaining * 12\n",
    "\n",
    "print(f'You have {days_remaining} days, {weeks_remaining} weeks, and {months_remaining} months left.')"
   ]
  },
  {
   "cell_type": "code",
   "execution_count": null,
   "metadata": {},
   "outputs": [],
   "source": [
    "'''\n",
    "About precision in Python\n",
    "https://docs.python.org/3/tutorial/floatingpoint.html\n",
    "'''"
   ]
  },
  {
   "cell_type": "code",
   "execution_count": 24,
   "metadata": {},
   "outputs": [
    {
     "name": "stdout",
     "output_type": "stream",
     "text": [
      "Welcome to the tip calculator !!!\n",
      "Each person should pay: $82.5\n",
      "Each person should pay: $82.50\n"
     ]
    }
   ],
   "source": [
    "# Day 2 Project: Tip Calculator\n",
    "\n",
    "#If the bill was $150.00, split between 5 people, with 12% tip. \n",
    "\n",
    "#Each person should pay (150.00 / 5) * 1.12 = 33.6\n",
    "#Format the result to 2 decimal places = 33.60\n",
    "\n",
    "#Tip: There are 2 ways to round a number. You might have to do some Googling to solve this.💪\n",
    "\n",
    "#Write your code below this line \n",
    "\n",
    "print('Welcome to the tip calculator !!!')\n",
    "total_bill = input('What was the total bill? $')\n",
    "percent = input('What percentage tip would you like to give? 10, 12 or 15? ')\n",
    "people_split = input('How many people to split the bill? ')\n",
    "\n",
    "amount = (float(total_bill) / int(people_split)) * (1 + float(percent) / 100)\n",
    "amount = round(amount, 2)\n",
    "\n",
    "print(f\"Each person should pay: ${amount}\")\n",
    "\n",
    "#Another way to show\n",
    "format_amount = \"{:.2f}\".format(amountr)\n",
    "print(f\"Each person should pay: ${format_amount}\")"
   ]
  }
 ],
 "metadata": {
  "kernelspec": {
   "display_name": "Python 3",
   "language": "python",
   "name": "python3"
  },
  "language_info": {
   "codemirror_mode": {
    "name": "ipython",
    "version": 3
   },
   "file_extension": ".py",
   "mimetype": "text/x-python",
   "name": "python",
   "nbconvert_exporter": "python",
   "pygments_lexer": "ipython3",
   "version": "3.8.10"
  },
  "orig_nbformat": 4
 },
 "nbformat": 4,
 "nbformat_minor": 2
}
