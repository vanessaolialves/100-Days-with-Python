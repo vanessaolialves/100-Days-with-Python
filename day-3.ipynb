{
 "cells": [
  {
   "cell_type": "code",
   "execution_count": 4,
   "metadata": {},
   "outputs": [
    {
     "name": "stdout",
     "output_type": "stream",
     "text": [
      "Continue\n",
      "Welcome to the rollercoaster!!!\n",
      "You can ride the rollercoaster!;)\n"
     ]
    },
    {
     "data": {
      "text/plain": [
       "'\\n_________________________________________________\\n|    Operator     |          Meaning            |\\n|-----------------+-----------------------------|\\n|       >         |       Greater than          |\\n|       <         |         Less than           |\\n|       >=        |  Greater than or equal to   |\\n|       <=        |    Less than or equal to    |\\n|       ==        |         Equal to            |\\n|       !=        |       Not equal to          |\\n|_________________|_____________________________|\\n'"
      ]
     },
     "execution_count": 4,
     "metadata": {},
     "output_type": "execute_result"
    }
   ],
   "source": [
    "# Condition\n",
    "# if / else\n",
    "\n",
    "'''\n",
    "if condition:\n",
    "    // if the condition is True\n",
    "    do this\n",
    "else:\n",
    "    // if condition is false\n",
    "    do this\n",
    "'''\n",
    "\n",
    "water_level = 50\n",
    "if water_level > 80:\n",
    "    print('Drain water')\n",
    "else:\n",
    "    print('Continue')\n",
    "\n",
    "# Job Theme park\n",
    "# Write a code that replace the tickets box\n",
    "# We need to check if the person is buy the ticket to go on rollercoaster is height than 120 cm\n",
    "\n",
    "# Important: Indentation refers to adding the relevant number of tabs and spaces at the \n",
    "# beginning of lines of code to indicate a block of code in Python.\n",
    "\n",
    "print('Welcome to the rollercoaster!!!')\n",
    "height = int(input('What is your height in cm?'))\n",
    "\n",
    "if height >= 120:\n",
    "    print('You can ride the rollercoaster!;)')\n",
    "else:\n",
    "    print(\"Sorry, you have to grow taller before you can ride.:'(\")\n",
    "\n",
    "\n",
    "# Comparison Operators\n",
    "'''\n",
    "_________________________________________________\n",
    "|    Operator     |          Meaning            |\n",
    "|-----------------+-----------------------------|\n",
    "|       >         |       Greater than          |\n",
    "|       <         |         Less than           |\n",
    "|       >=        |  Greater than or equal to   |\n",
    "|       <=        |    Less than or equal to    |\n",
    "|       ==        |         Equal to            |\n",
    "|       !=        |       Not equal to          |\n",
    "|_________________|_____________________________|\n",
    "'''"
   ]
  }
 ],
 "metadata": {
  "kernelspec": {
   "display_name": "Python 3",
   "language": "python",
   "name": "python3"
  },
  "language_info": {
   "codemirror_mode": {
    "name": "ipython",
    "version": 3
   },
   "file_extension": ".py",
   "mimetype": "text/x-python",
   "name": "python",
   "nbconvert_exporter": "python",
   "pygments_lexer": "ipython3",
   "version": "3.8.10"
  },
  "orig_nbformat": 4
 },
 "nbformat": 4,
 "nbformat_minor": 2
}
